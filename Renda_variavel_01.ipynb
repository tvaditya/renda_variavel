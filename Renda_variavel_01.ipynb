{
 "cells": [
  {
   "cell_type": "code",
   "execution_count": 114,
   "metadata": {
    "collapsed": true
   },
   "outputs": [],
   "source": [
    "import numpy as np\n",
    "import pandas as pd\n",
    "import matplotlib.pyplot as plt\n",
    "import seaborn as sns\n",
    "import locale"
   ]
  },
  {
   "cell_type": "markdown",
   "source": [
    "## Criando os dataframes"
   ],
   "metadata": {
    "collapsed": false
   }
  },
  {
   "cell_type": "code",
   "execution_count": 115,
   "outputs": [
    {
     "data": {
      "text/plain": "  TICKER  PRECO    DY     P/L   P/VP P/ATIVOS MARGEM BRUTA MARGEM EBIT  \\\n0  AALR3  22,59   NaN  -19,70   2,33     1,04        30,55       -0,34   \n1  ABCB4  16,92  8,26    4,78   0,73     0,07        35,76       27,56   \n2  ABEV3  14,84  5,14   16,14   2,80     1,69        49,29       22,15   \n3  ADHM3   1,56   NaN   -4,09  -1,29   105,12       100,00  -13.548,48   \n4  AERI3   1,20   NaN   -9,92   1,04     0,24        11,93        8,65   \n\n  MARG. LIQUIDA   P/EBIT  ... PATRIMONIO / ATIVOS PASSIVOS / ATIVOS  \\\n0        -12,41  -712,60  ...                0,45              0,54   \n1         19,63     3,40  ...                0,09              0,91   \n2         18,14    13,22  ...                0,60              0,40   \n3    -18.860,61    -5,69  ...              -81,72             82,72   \n4         -3,76     4,31  ...                0,23              0,77   \n\n  GIRO ATIVOS CAGR RECEITAS 5 ANOS CAGR LUCROS 5 ANOS  LIQUIDEZ MEDIA DIARIA  \\\n0        0,42                 3,62                NaN          10.582.375,55   \n1        0,07                13,58              13,36          16.810.983,98   \n2        0,58                10,72              14,74         466.734.715,33   \n3        0,14                  NaN                NaN                    NaN   \n4        0,65                  NaN                NaN           8.531.497,88   \n\n     VPA    LPA  PEG Ratio    VALOR DE MERCADO  \n0   9,68  -1,15       0,04    2.668.685.928,96  \n1  23,02   3,54       0,12    3.823.183.895,38  \n2   5,29   0,92       1,14  233.418.213.731,82  \n3  -1,21  -0,38      -0,58       25.439.770,20  \n4   1,15  -0,12       0,04      919.456.147,20  \n\n[5 rows x 30 columns]",
      "text/html": "<div>\n<style scoped>\n    .dataframe tbody tr th:only-of-type {\n        vertical-align: middle;\n    }\n\n    .dataframe tbody tr th {\n        vertical-align: top;\n    }\n\n    .dataframe thead th {\n        text-align: right;\n    }\n</style>\n<table border=\"1\" class=\"dataframe\">\n  <thead>\n    <tr style=\"text-align: right;\">\n      <th></th>\n      <th>TICKER</th>\n      <th>PRECO</th>\n      <th>DY</th>\n      <th>P/L</th>\n      <th>P/VP</th>\n      <th>P/ATIVOS</th>\n      <th>MARGEM BRUTA</th>\n      <th>MARGEM EBIT</th>\n      <th>MARG. LIQUIDA</th>\n      <th>P/EBIT</th>\n      <th>...</th>\n      <th>PATRIMONIO / ATIVOS</th>\n      <th>PASSIVOS / ATIVOS</th>\n      <th>GIRO ATIVOS</th>\n      <th>CAGR RECEITAS 5 ANOS</th>\n      <th>CAGR LUCROS 5 ANOS</th>\n      <th>LIQUIDEZ MEDIA DIARIA</th>\n      <th>VPA</th>\n      <th>LPA</th>\n      <th>PEG Ratio</th>\n      <th>VALOR DE MERCADO</th>\n    </tr>\n  </thead>\n  <tbody>\n    <tr>\n      <th>0</th>\n      <td>AALR3</td>\n      <td>22,59</td>\n      <td>NaN</td>\n      <td>-19,70</td>\n      <td>2,33</td>\n      <td>1,04</td>\n      <td>30,55</td>\n      <td>-0,34</td>\n      <td>-12,41</td>\n      <td>-712,60</td>\n      <td>...</td>\n      <td>0,45</td>\n      <td>0,54</td>\n      <td>0,42</td>\n      <td>3,62</td>\n      <td>NaN</td>\n      <td>10.582.375,55</td>\n      <td>9,68</td>\n      <td>-1,15</td>\n      <td>0,04</td>\n      <td>2.668.685.928,96</td>\n    </tr>\n    <tr>\n      <th>1</th>\n      <td>ABCB4</td>\n      <td>16,92</td>\n      <td>8,26</td>\n      <td>4,78</td>\n      <td>0,73</td>\n      <td>0,07</td>\n      <td>35,76</td>\n      <td>27,56</td>\n      <td>19,63</td>\n      <td>3,40</td>\n      <td>...</td>\n      <td>0,09</td>\n      <td>0,91</td>\n      <td>0,07</td>\n      <td>13,58</td>\n      <td>13,36</td>\n      <td>16.810.983,98</td>\n      <td>23,02</td>\n      <td>3,54</td>\n      <td>0,12</td>\n      <td>3.823.183.895,38</td>\n    </tr>\n    <tr>\n      <th>2</th>\n      <td>ABEV3</td>\n      <td>14,84</td>\n      <td>5,14</td>\n      <td>16,14</td>\n      <td>2,80</td>\n      <td>1,69</td>\n      <td>49,29</td>\n      <td>22,15</td>\n      <td>18,14</td>\n      <td>13,22</td>\n      <td>...</td>\n      <td>0,60</td>\n      <td>0,40</td>\n      <td>0,58</td>\n      <td>10,72</td>\n      <td>14,74</td>\n      <td>466.734.715,33</td>\n      <td>5,29</td>\n      <td>0,92</td>\n      <td>1,14</td>\n      <td>233.418.213.731,82</td>\n    </tr>\n    <tr>\n      <th>3</th>\n      <td>ADHM3</td>\n      <td>1,56</td>\n      <td>NaN</td>\n      <td>-4,09</td>\n      <td>-1,29</td>\n      <td>105,12</td>\n      <td>100,00</td>\n      <td>-13.548,48</td>\n      <td>-18.860,61</td>\n      <td>-5,69</td>\n      <td>...</td>\n      <td>-81,72</td>\n      <td>82,72</td>\n      <td>0,14</td>\n      <td>NaN</td>\n      <td>NaN</td>\n      <td>NaN</td>\n      <td>-1,21</td>\n      <td>-0,38</td>\n      <td>-0,58</td>\n      <td>25.439.770,20</td>\n    </tr>\n    <tr>\n      <th>4</th>\n      <td>AERI3</td>\n      <td>1,20</td>\n      <td>NaN</td>\n      <td>-9,92</td>\n      <td>1,04</td>\n      <td>0,24</td>\n      <td>11,93</td>\n      <td>8,65</td>\n      <td>-3,76</td>\n      <td>4,31</td>\n      <td>...</td>\n      <td>0,23</td>\n      <td>0,77</td>\n      <td>0,65</td>\n      <td>NaN</td>\n      <td>NaN</td>\n      <td>8.531.497,88</td>\n      <td>1,15</td>\n      <td>-0,12</td>\n      <td>0,04</td>\n      <td>919.456.147,20</td>\n    </tr>\n  </tbody>\n</table>\n<p>5 rows × 30 columns</p>\n</div>"
     },
     "execution_count": 115,
     "metadata": {},
     "output_type": "execute_result"
    }
   ],
   "source": [
    "df_acoes = pd.read_csv('data/statusinvest-acoes.csv', delimiter=\";\")\n",
    "df_acoes.head()"
   ],
   "metadata": {
    "collapsed": false
   }
  },
  {
   "cell_type": "code",
   "execution_count": 116,
   "outputs": [
    {
     "name": "stdout",
     "output_type": "stream",
     "text": [
      "<class 'pandas.core.frame.DataFrame'>\n",
      "RangeIndex: 601 entries, 0 to 600\n",
      "Data columns (total 30 columns):\n",
      " #   Column                  Non-Null Count  Dtype \n",
      "---  ------                  --------------  ----- \n",
      " 0   TICKER                  601 non-null    object\n",
      " 1   PRECO                   601 non-null    object\n",
      " 2   DY                      352 non-null    object\n",
      " 3   P/L                     600 non-null    object\n",
      " 4   P/VP                    600 non-null    object\n",
      " 5   P/ATIVOS                600 non-null    object\n",
      " 6   MARGEM BRUTA            573 non-null    object\n",
      " 7   MARGEM EBIT             573 non-null    object\n",
      " 8   MARG. LIQUIDA           573 non-null    object\n",
      " 9   P/EBIT                  599 non-null    object\n",
      " 10  EV/EBIT                 592 non-null    object\n",
      " 11  DIVIDA LIQUIDA / EBIT   542 non-null    object\n",
      " 12  DIV. LIQ. / PATRI.      461 non-null    object\n",
      " 13  PSR                     570 non-null    object\n",
      " 14  P/CAP. GIRO             588 non-null    object\n",
      " 15  P. AT CIR. LIQ.         597 non-null    object\n",
      " 16  LIQ. CORRENTE           572 non-null    object\n",
      " 17  ROE                     600 non-null    object\n",
      " 18  ROA                     600 non-null    object\n",
      " 19  ROIC                    541 non-null    object\n",
      " 20  PATRIMONIO / ATIVOS     600 non-null    object\n",
      " 21  PASSIVOS / ATIVOS       600 non-null    object\n",
      " 22  GIRO ATIVOS             600 non-null    object\n",
      " 23  CAGR RECEITAS 5 ANOS    506 non-null    object\n",
      " 24  CAGR LUCROS 5 ANOS      297 non-null    object\n",
      " 25   LIQUIDEZ MEDIA DIARIA  481 non-null    object\n",
      " 26   VPA                    601 non-null    object\n",
      " 27   LPA                    601 non-null    object\n",
      " 28   PEG Ratio              593 non-null    object\n",
      " 29   VALOR DE MERCADO       594 non-null    object\n",
      "dtypes: object(30)\n",
      "memory usage: 141.0+ KB\n"
     ]
    }
   ],
   "source": [
    "df_acoes.info()"
   ],
   "metadata": {
    "collapsed": false
   }
  },
  {
   "cell_type": "code",
   "execution_count": 117,
   "outputs": [
    {
     "data": {
      "text/plain": "  TICKER  PRECO    DY     P/L   P/VP P/ATIVOS MARGEM BRUTA MARGEM EBIT  \\\n0  AALR3  22,59   NaN  -19,70   2,33     1,04        30,55       -0,34   \n1  ABCB4  16,92  8,26    4,78   0,73     0,07        35,76       27,56   \n2  ABEV3  14,84  5,14   16,14   2,80     1,69        49,29       22,15   \n3  ADHM3   1,56   NaN   -4,09  -1,29   105,12       100,00  -13.548,48   \n4  AERI3   1,20   NaN   -9,92   1,04     0,24        11,93        8,65   \n\n  MARG. LIQUIDA   P/EBIT  ... PATRIMONIO / ATIVOS PASSIVOS / ATIVOS  \\\n0        -12,41  -712,60  ...                0,45              0,54   \n1         19,63     3,40  ...                0,09              0,91   \n2         18,14    13,22  ...                0,60              0,40   \n3    -18.860,61    -5,69  ...              -81,72             82,72   \n4         -3,76     4,31  ...                0,23              0,77   \n\n  GIRO ATIVOS CAGR RECEITAS 5 ANOS CAGR LUCROS 5 ANOS  LIQUIDEZ MEDIA DIARIA  \\\n0        0,42                 3,62                NaN          10.582.375,55   \n1        0,07                13,58              13,36          16.810.983,98   \n2        0,58                10,72              14,74         466.734.715,33   \n3        0,14                  NaN                NaN                    NaN   \n4        0,65                  NaN                NaN           8.531.497,88   \n\n     VPA    LPA  PEG Ratio    VALOR DE MERCADO  \n0   9,68  -1,15       0,04    2.668.685.928,96  \n1  23,02   3,54       0,12    3.823.183.895,38  \n2   5,29   0,92       1,14  233.418.213.731,82  \n3  -1,21  -0,38      -0,58       25.439.770,20  \n4   1,15  -0,12       0,04      919.456.147,20  \n\n[5 rows x 30 columns]",
      "text/html": "<div>\n<style scoped>\n    .dataframe tbody tr th:only-of-type {\n        vertical-align: middle;\n    }\n\n    .dataframe tbody tr th {\n        vertical-align: top;\n    }\n\n    .dataframe thead th {\n        text-align: right;\n    }\n</style>\n<table border=\"1\" class=\"dataframe\">\n  <thead>\n    <tr style=\"text-align: right;\">\n      <th></th>\n      <th>TICKER</th>\n      <th>PRECO</th>\n      <th>DY</th>\n      <th>P/L</th>\n      <th>P/VP</th>\n      <th>P/ATIVOS</th>\n      <th>MARGEM BRUTA</th>\n      <th>MARGEM EBIT</th>\n      <th>MARG. LIQUIDA</th>\n      <th>P/EBIT</th>\n      <th>...</th>\n      <th>PATRIMONIO / ATIVOS</th>\n      <th>PASSIVOS / ATIVOS</th>\n      <th>GIRO ATIVOS</th>\n      <th>CAGR RECEITAS 5 ANOS</th>\n      <th>CAGR LUCROS 5 ANOS</th>\n      <th>LIQUIDEZ MEDIA DIARIA</th>\n      <th>VPA</th>\n      <th>LPA</th>\n      <th>PEG Ratio</th>\n      <th>VALOR DE MERCADO</th>\n    </tr>\n  </thead>\n  <tbody>\n    <tr>\n      <th>0</th>\n      <td>AALR3</td>\n      <td>22,59</td>\n      <td>NaN</td>\n      <td>-19,70</td>\n      <td>2,33</td>\n      <td>1,04</td>\n      <td>30,55</td>\n      <td>-0,34</td>\n      <td>-12,41</td>\n      <td>-712,60</td>\n      <td>...</td>\n      <td>0,45</td>\n      <td>0,54</td>\n      <td>0,42</td>\n      <td>3,62</td>\n      <td>NaN</td>\n      <td>10.582.375,55</td>\n      <td>9,68</td>\n      <td>-1,15</td>\n      <td>0,04</td>\n      <td>2.668.685.928,96</td>\n    </tr>\n    <tr>\n      <th>1</th>\n      <td>ABCB4</td>\n      <td>16,92</td>\n      <td>8,26</td>\n      <td>4,78</td>\n      <td>0,73</td>\n      <td>0,07</td>\n      <td>35,76</td>\n      <td>27,56</td>\n      <td>19,63</td>\n      <td>3,40</td>\n      <td>...</td>\n      <td>0,09</td>\n      <td>0,91</td>\n      <td>0,07</td>\n      <td>13,58</td>\n      <td>13,36</td>\n      <td>16.810.983,98</td>\n      <td>23,02</td>\n      <td>3,54</td>\n      <td>0,12</td>\n      <td>3.823.183.895,38</td>\n    </tr>\n    <tr>\n      <th>2</th>\n      <td>ABEV3</td>\n      <td>14,84</td>\n      <td>5,14</td>\n      <td>16,14</td>\n      <td>2,80</td>\n      <td>1,69</td>\n      <td>49,29</td>\n      <td>22,15</td>\n      <td>18,14</td>\n      <td>13,22</td>\n      <td>...</td>\n      <td>0,60</td>\n      <td>0,40</td>\n      <td>0,58</td>\n      <td>10,72</td>\n      <td>14,74</td>\n      <td>466.734.715,33</td>\n      <td>5,29</td>\n      <td>0,92</td>\n      <td>1,14</td>\n      <td>233.418.213.731,82</td>\n    </tr>\n    <tr>\n      <th>3</th>\n      <td>ADHM3</td>\n      <td>1,56</td>\n      <td>NaN</td>\n      <td>-4,09</td>\n      <td>-1,29</td>\n      <td>105,12</td>\n      <td>100,00</td>\n      <td>-13.548,48</td>\n      <td>-18.860,61</td>\n      <td>-5,69</td>\n      <td>...</td>\n      <td>-81,72</td>\n      <td>82,72</td>\n      <td>0,14</td>\n      <td>NaN</td>\n      <td>NaN</td>\n      <td>NaN</td>\n      <td>-1,21</td>\n      <td>-0,38</td>\n      <td>-0,58</td>\n      <td>25.439.770,20</td>\n    </tr>\n    <tr>\n      <th>4</th>\n      <td>AERI3</td>\n      <td>1,20</td>\n      <td>NaN</td>\n      <td>-9,92</td>\n      <td>1,04</td>\n      <td>0,24</td>\n      <td>11,93</td>\n      <td>8,65</td>\n      <td>-3,76</td>\n      <td>4,31</td>\n      <td>...</td>\n      <td>0,23</td>\n      <td>0,77</td>\n      <td>0,65</td>\n      <td>NaN</td>\n      <td>NaN</td>\n      <td>8.531.497,88</td>\n      <td>1,15</td>\n      <td>-0,12</td>\n      <td>0,04</td>\n      <td>919.456.147,20</td>\n    </tr>\n  </tbody>\n</table>\n<p>5 rows × 30 columns</p>\n</div>"
     },
     "execution_count": 117,
     "metadata": {},
     "output_type": "execute_result"
    }
   ],
   "source": [
    "df_f11 = pd.read_csv('data/statusinvest-acoes.csv', delimiter=\";\")\n",
    "df_f11.head()"
   ],
   "metadata": {
    "collapsed": false
   }
  },
  {
   "cell_type": "code",
   "execution_count": 118,
   "outputs": [
    {
     "name": "stdout",
     "output_type": "stream",
     "text": [
      "<class 'pandas.core.frame.DataFrame'>\n",
      "RangeIndex: 601 entries, 0 to 600\n",
      "Data columns (total 30 columns):\n",
      " #   Column                  Non-Null Count  Dtype \n",
      "---  ------                  --------------  ----- \n",
      " 0   TICKER                  601 non-null    object\n",
      " 1   PRECO                   601 non-null    object\n",
      " 2   DY                      352 non-null    object\n",
      " 3   P/L                     600 non-null    object\n",
      " 4   P/VP                    600 non-null    object\n",
      " 5   P/ATIVOS                600 non-null    object\n",
      " 6   MARGEM BRUTA            573 non-null    object\n",
      " 7   MARGEM EBIT             573 non-null    object\n",
      " 8   MARG. LIQUIDA           573 non-null    object\n",
      " 9   P/EBIT                  599 non-null    object\n",
      " 10  EV/EBIT                 592 non-null    object\n",
      " 11  DIVIDA LIQUIDA / EBIT   542 non-null    object\n",
      " 12  DIV. LIQ. / PATRI.      461 non-null    object\n",
      " 13  PSR                     570 non-null    object\n",
      " 14  P/CAP. GIRO             588 non-null    object\n",
      " 15  P. AT CIR. LIQ.         597 non-null    object\n",
      " 16  LIQ. CORRENTE           572 non-null    object\n",
      " 17  ROE                     600 non-null    object\n",
      " 18  ROA                     600 non-null    object\n",
      " 19  ROIC                    541 non-null    object\n",
      " 20  PATRIMONIO / ATIVOS     600 non-null    object\n",
      " 21  PASSIVOS / ATIVOS       600 non-null    object\n",
      " 22  GIRO ATIVOS             600 non-null    object\n",
      " 23  CAGR RECEITAS 5 ANOS    506 non-null    object\n",
      " 24  CAGR LUCROS 5 ANOS      297 non-null    object\n",
      " 25   LIQUIDEZ MEDIA DIARIA  481 non-null    object\n",
      " 26   VPA                    601 non-null    object\n",
      " 27   LPA                    601 non-null    object\n",
      " 28   PEG Ratio              593 non-null    object\n",
      " 29   VALOR DE MERCADO       594 non-null    object\n",
      "dtypes: object(30)\n",
      "memory usage: 141.0+ KB\n"
     ]
    }
   ],
   "source": [
    "df_f11.info()"
   ],
   "metadata": {
    "collapsed": false
   }
  },
  {
   "cell_type": "code",
   "execution_count": 119,
   "outputs": [
    {
     "data": {
      "text/plain": "         Date   Price    Open    High     Low    Vol. Change %\n0  03/30/2023  101.43  100.96  101.88  100.00  22.00K    0.48%\n1  03/29/2023  100.95  101.46  101.83  100.50  25.94K   -0.20%\n2  03/28/2023  101.15  101.89  102.50  101.06  25.95K   -0.08%\n3  03/27/2023  101.23  102.51  102.85  101.06  24.75K   -1.23%\n4  03/24/2023  102.49  102.04  102.80  102.04  17.15K    0.44%",
      "text/html": "<div>\n<style scoped>\n    .dataframe tbody tr th:only-of-type {\n        vertical-align: middle;\n    }\n\n    .dataframe tbody tr th {\n        vertical-align: top;\n    }\n\n    .dataframe thead th {\n        text-align: right;\n    }\n</style>\n<table border=\"1\" class=\"dataframe\">\n  <thead>\n    <tr style=\"text-align: right;\">\n      <th></th>\n      <th>Date</th>\n      <th>Price</th>\n      <th>Open</th>\n      <th>High</th>\n      <th>Low</th>\n      <th>Vol.</th>\n      <th>Change %</th>\n    </tr>\n  </thead>\n  <tbody>\n    <tr>\n      <th>0</th>\n      <td>03/30/2023</td>\n      <td>101.43</td>\n      <td>100.96</td>\n      <td>101.88</td>\n      <td>100.00</td>\n      <td>22.00K</td>\n      <td>0.48%</td>\n    </tr>\n    <tr>\n      <th>1</th>\n      <td>03/29/2023</td>\n      <td>100.95</td>\n      <td>101.46</td>\n      <td>101.83</td>\n      <td>100.50</td>\n      <td>25.94K</td>\n      <td>-0.20%</td>\n    </tr>\n    <tr>\n      <th>2</th>\n      <td>03/28/2023</td>\n      <td>101.15</td>\n      <td>101.89</td>\n      <td>102.50</td>\n      <td>101.06</td>\n      <td>25.95K</td>\n      <td>-0.08%</td>\n    </tr>\n    <tr>\n      <th>3</th>\n      <td>03/27/2023</td>\n      <td>101.23</td>\n      <td>102.51</td>\n      <td>102.85</td>\n      <td>101.06</td>\n      <td>24.75K</td>\n      <td>-1.23%</td>\n    </tr>\n    <tr>\n      <th>4</th>\n      <td>03/24/2023</td>\n      <td>102.49</td>\n      <td>102.04</td>\n      <td>102.80</td>\n      <td>102.04</td>\n      <td>17.15K</td>\n      <td>0.44%</td>\n    </tr>\n  </tbody>\n</table>\n</div>"
     },
     "execution_count": 119,
     "metadata": {},
     "output_type": "execute_result"
    }
   ],
   "source": [
    "df_visc = pd.read_csv('data/VISC11 Historical Data.csv', delimiter=\",\")\n",
    "df_visc.head()"
   ],
   "metadata": {
    "collapsed": false
   }
  },
  {
   "cell_type": "code",
   "execution_count": 120,
   "outputs": [
    {
     "name": "stdout",
     "output_type": "stream",
     "text": [
      "<class 'pandas.core.frame.DataFrame'>\n",
      "RangeIndex: 22 entries, 0 to 21\n",
      "Data columns (total 7 columns):\n",
      " #   Column    Non-Null Count  Dtype  \n",
      "---  ------    --------------  -----  \n",
      " 0   Date      22 non-null     object \n",
      " 1   Price     22 non-null     float64\n",
      " 2   Open      22 non-null     float64\n",
      " 3   High      22 non-null     float64\n",
      " 4   Low       22 non-null     float64\n",
      " 5   Vol.      22 non-null     object \n",
      " 6   Change %  22 non-null     object \n",
      "dtypes: float64(4), object(3)\n",
      "memory usage: 1.3+ KB\n"
     ]
    }
   ],
   "source": [
    "df_visc.info()"
   ],
   "metadata": {
    "collapsed": false
   }
  },
  {
   "cell_type": "markdown",
   "source": [
    "## Tratamento dos dados\n"
   ],
   "metadata": {
    "collapsed": false
   }
  },
  {
   "cell_type": "code",
   "execution_count": 121,
   "outputs": [
    {
     "data": {
      "text/plain": "    coluna1   coluna2\n0  19999.99   9876.54\n1  10543.21  12345.67\n2   3210.15   5432.10",
      "text/html": "<div>\n<style scoped>\n    .dataframe tbody tr th:only-of-type {\n        vertical-align: middle;\n    }\n\n    .dataframe tbody tr th {\n        vertical-align: top;\n    }\n\n    .dataframe thead th {\n        text-align: right;\n    }\n</style>\n<table border=\"1\" class=\"dataframe\">\n  <thead>\n    <tr style=\"text-align: right;\">\n      <th></th>\n      <th>coluna1</th>\n      <th>coluna2</th>\n    </tr>\n  </thead>\n  <tbody>\n    <tr>\n      <th>0</th>\n      <td>19999.99</td>\n      <td>9876.54</td>\n    </tr>\n    <tr>\n      <th>1</th>\n      <td>10543.21</td>\n      <td>12345.67</td>\n    </tr>\n    <tr>\n      <th>2</th>\n      <td>3210.15</td>\n      <td>5432.10</td>\n    </tr>\n  </tbody>\n</table>\n</div>"
     },
     "execution_count": 121,
     "metadata": {},
     "output_type": "execute_result"
    }
   ],
   "source": [
    "def convert_to_float(value):\n",
    "    new_value = value.replace(\".\", \"\")\n",
    "    new_value = new_value.replace(\",\", \".\")\n",
    "    return float(new_value) # Converte a string em um float\n",
    "\n",
    "# Cria DataFrame teste\n",
    "df_teste = pd.DataFrame({\"coluna1\": [\"19.999,99\", \"10.543,21\", \"3.210,15\"],\n",
    "                         \"coluna2\": [\"9.876,54\", \"12.345,67\", \"5.432,10\"]})\n",
    "\n",
    "# Aplica a função no DataFrame\n",
    "df_teste = df_teste.apply(lambda x: x.apply(convert_to_float))\n",
    "df_teste"
   ],
   "metadata": {
    "collapsed": false
   }
  },
  {
   "cell_type": "code",
   "execution_count": 122,
   "outputs": [
    {
     "data": {
      "text/plain": "    coluna1   coluna2   coluna3\n0  19999.99   9876.54   9876.54\n1  10543.21  12345.67  12345.67\n2      0.00      0.00      0.00\n3   3210.15   5432.10   5432.10",
      "text/html": "<div>\n<style scoped>\n    .dataframe tbody tr th:only-of-type {\n        vertical-align: middle;\n    }\n\n    .dataframe tbody tr th {\n        vertical-align: top;\n    }\n\n    .dataframe thead th {\n        text-align: right;\n    }\n</style>\n<table border=\"1\" class=\"dataframe\">\n  <thead>\n    <tr style=\"text-align: right;\">\n      <th></th>\n      <th>coluna1</th>\n      <th>coluna2</th>\n      <th>coluna3</th>\n    </tr>\n  </thead>\n  <tbody>\n    <tr>\n      <th>0</th>\n      <td>19999.99</td>\n      <td>9876.54</td>\n      <td>9876.54</td>\n    </tr>\n    <tr>\n      <th>1</th>\n      <td>10543.21</td>\n      <td>12345.67</td>\n      <td>12345.67</td>\n    </tr>\n    <tr>\n      <th>2</th>\n      <td>0.00</td>\n      <td>0.00</td>\n      <td>0.00</td>\n    </tr>\n    <tr>\n      <th>3</th>\n      <td>3210.15</td>\n      <td>5432.10</td>\n      <td>5432.10</td>\n    </tr>\n  </tbody>\n</table>\n</div>"
     },
     "execution_count": 122,
     "metadata": {},
     "output_type": "execute_result"
    }
   ],
   "source": [
    "# import locale\n",
    "\n",
    "def str_to_float(string):\n",
    "    locale.setlocale(locale.LC_ALL, 'pt_BR.UTF-8')\n",
    "    try:\n",
    "        string = string.replace(\".\", \"\").replace(\",\", \".\")\n",
    "        return float(string)\n",
    "    except AttributeError:\n",
    "        return 0\n",
    "\n",
    "df_teste = pd.DataFrame({\"coluna1\": [\"19.999,99\", \"10.543,21\",0, \"3.210,15\"],\n",
    "                         \"coluna2\": [\"9.876,54\", \"12.345,67\",0, \"5.432,10\"],\n",
    "                         \"coluna3\": [\"9.876,54\", \"12.345,67\", None, \"5.432,10\"]}\n",
    "                        )\n",
    "\n",
    "df_teste = df_teste.apply(lambda x: x.apply(str_to_float))\n",
    "df_teste"
   ],
   "metadata": {
    "collapsed": false
   }
  },
  {
   "cell_type": "code",
   "execution_count": 123,
   "outputs": [],
   "source": [
    "def clean_string_k(string):\n",
    "    try:\n",
    "        string = string.replace(\"K\", \"\")\n",
    "        return float(string)\n",
    "    except AttributeError:\n",
    "        return 0\n",
    "\n",
    "\n",
    "def clean_string_perc(string):\n",
    "    try:\n",
    "        string = string.replace(\"%\", \"\")\n",
    "        return float(string)\n",
    "    except AttributeError:\n",
    "        return 0"
   ],
   "metadata": {
    "collapsed": false
   }
  },
  {
   "cell_type": "markdown",
   "source": [
    "Com isso temos todas as funções necessárias para fazer o tratamento dos dados.\n",
    "Agora vamos aplicar nos dataframes."
   ],
   "metadata": {
    "collapsed": false
   }
  },
  {
   "cell_type": "code",
   "execution_count": 124,
   "outputs": [
    {
     "data": {
      "text/plain": "  TICKER  PRECO    DY    P/L  P/VP  P/ATIVOS  MARGEM BRUTA  MARGEM EBIT  \\\n0  AALR3  22.59  0.00 -19.70  2.33      1.04         30.55        -0.34   \n1  ABCB4  16.92  8.26   4.78  0.73      0.07         35.76        27.56   \n2  ABEV3  14.84  5.14  16.14  2.80      1.69         49.29        22.15   \n3  ADHM3   1.56  0.00  -4.09 -1.29    105.12        100.00    -13548.48   \n4  AERI3   1.20  0.00  -9.92  1.04      0.24         11.93         8.65   \n\n   MARG. LIQUIDA  P/EBIT  ...  PATRIMONIO / ATIVOS  PASSIVOS / ATIVOS  \\\n0         -12.41 -712.60  ...                 0.45               0.54   \n1          19.63    3.40  ...                 0.09               0.91   \n2          18.14   13.22  ...                 0.60               0.40   \n3      -18860.61   -5.69  ...               -81.72              82.72   \n4          -3.76    4.31  ...                 0.23               0.77   \n\n   GIRO ATIVOS  CAGR RECEITAS 5 ANOS  CAGR LUCROS 5 ANOS  \\\n0         0.42                  3.62                0.00   \n1         0.07                 13.58               13.36   \n2         0.58                 10.72               14.74   \n3         0.14                  0.00                0.00   \n4         0.65                  0.00                0.00   \n\n    LIQUIDEZ MEDIA DIARIA    VPA   LPA   PEG Ratio   VALOR DE MERCADO  \n0            1.058238e+07   9.68 -1.15        0.04       2.668686e+09  \n1            1.681098e+07  23.02  3.54        0.12       3.823184e+09  \n2            4.667347e+08   5.29  0.92        1.14       2.334182e+11  \n3            0.000000e+00  -1.21 -0.38       -0.58       2.543977e+07  \n4            8.531498e+06   1.15 -0.12        0.04       9.194561e+08  \n\n[5 rows x 30 columns]",
      "text/html": "<div>\n<style scoped>\n    .dataframe tbody tr th:only-of-type {\n        vertical-align: middle;\n    }\n\n    .dataframe tbody tr th {\n        vertical-align: top;\n    }\n\n    .dataframe thead th {\n        text-align: right;\n    }\n</style>\n<table border=\"1\" class=\"dataframe\">\n  <thead>\n    <tr style=\"text-align: right;\">\n      <th></th>\n      <th>TICKER</th>\n      <th>PRECO</th>\n      <th>DY</th>\n      <th>P/L</th>\n      <th>P/VP</th>\n      <th>P/ATIVOS</th>\n      <th>MARGEM BRUTA</th>\n      <th>MARGEM EBIT</th>\n      <th>MARG. LIQUIDA</th>\n      <th>P/EBIT</th>\n      <th>...</th>\n      <th>PATRIMONIO / ATIVOS</th>\n      <th>PASSIVOS / ATIVOS</th>\n      <th>GIRO ATIVOS</th>\n      <th>CAGR RECEITAS 5 ANOS</th>\n      <th>CAGR LUCROS 5 ANOS</th>\n      <th>LIQUIDEZ MEDIA DIARIA</th>\n      <th>VPA</th>\n      <th>LPA</th>\n      <th>PEG Ratio</th>\n      <th>VALOR DE MERCADO</th>\n    </tr>\n  </thead>\n  <tbody>\n    <tr>\n      <th>0</th>\n      <td>AALR3</td>\n      <td>22.59</td>\n      <td>0.00</td>\n      <td>-19.70</td>\n      <td>2.33</td>\n      <td>1.04</td>\n      <td>30.55</td>\n      <td>-0.34</td>\n      <td>-12.41</td>\n      <td>-712.60</td>\n      <td>...</td>\n      <td>0.45</td>\n      <td>0.54</td>\n      <td>0.42</td>\n      <td>3.62</td>\n      <td>0.00</td>\n      <td>1.058238e+07</td>\n      <td>9.68</td>\n      <td>-1.15</td>\n      <td>0.04</td>\n      <td>2.668686e+09</td>\n    </tr>\n    <tr>\n      <th>1</th>\n      <td>ABCB4</td>\n      <td>16.92</td>\n      <td>8.26</td>\n      <td>4.78</td>\n      <td>0.73</td>\n      <td>0.07</td>\n      <td>35.76</td>\n      <td>27.56</td>\n      <td>19.63</td>\n      <td>3.40</td>\n      <td>...</td>\n      <td>0.09</td>\n      <td>0.91</td>\n      <td>0.07</td>\n      <td>13.58</td>\n      <td>13.36</td>\n      <td>1.681098e+07</td>\n      <td>23.02</td>\n      <td>3.54</td>\n      <td>0.12</td>\n      <td>3.823184e+09</td>\n    </tr>\n    <tr>\n      <th>2</th>\n      <td>ABEV3</td>\n      <td>14.84</td>\n      <td>5.14</td>\n      <td>16.14</td>\n      <td>2.80</td>\n      <td>1.69</td>\n      <td>49.29</td>\n      <td>22.15</td>\n      <td>18.14</td>\n      <td>13.22</td>\n      <td>...</td>\n      <td>0.60</td>\n      <td>0.40</td>\n      <td>0.58</td>\n      <td>10.72</td>\n      <td>14.74</td>\n      <td>4.667347e+08</td>\n      <td>5.29</td>\n      <td>0.92</td>\n      <td>1.14</td>\n      <td>2.334182e+11</td>\n    </tr>\n    <tr>\n      <th>3</th>\n      <td>ADHM3</td>\n      <td>1.56</td>\n      <td>0.00</td>\n      <td>-4.09</td>\n      <td>-1.29</td>\n      <td>105.12</td>\n      <td>100.00</td>\n      <td>-13548.48</td>\n      <td>-18860.61</td>\n      <td>-5.69</td>\n      <td>...</td>\n      <td>-81.72</td>\n      <td>82.72</td>\n      <td>0.14</td>\n      <td>0.00</td>\n      <td>0.00</td>\n      <td>0.000000e+00</td>\n      <td>-1.21</td>\n      <td>-0.38</td>\n      <td>-0.58</td>\n      <td>2.543977e+07</td>\n    </tr>\n    <tr>\n      <th>4</th>\n      <td>AERI3</td>\n      <td>1.20</td>\n      <td>0.00</td>\n      <td>-9.92</td>\n      <td>1.04</td>\n      <td>0.24</td>\n      <td>11.93</td>\n      <td>8.65</td>\n      <td>-3.76</td>\n      <td>4.31</td>\n      <td>...</td>\n      <td>0.23</td>\n      <td>0.77</td>\n      <td>0.65</td>\n      <td>0.00</td>\n      <td>0.00</td>\n      <td>8.531498e+06</td>\n      <td>1.15</td>\n      <td>-0.12</td>\n      <td>0.04</td>\n      <td>9.194561e+08</td>\n    </tr>\n  </tbody>\n</table>\n<p>5 rows × 30 columns</p>\n</div>"
     },
     "execution_count": 124,
     "metadata": {},
     "output_type": "execute_result"
    }
   ],
   "source": [
    "# Base de dados de ações\n",
    "df_acoes.fillna(0, inplace=True)\n",
    "df_acoes.iloc[:,1:] = df_acoes.iloc[:, 1:].apply(lambda x: x.apply(str_to_float))\n",
    "df_acoes.head()"
   ],
   "metadata": {
    "collapsed": false
   }
  },
  {
   "cell_type": "code",
   "execution_count": 125,
   "outputs": [
    {
     "data": {
      "text/plain": "  TICKER  PRECO    DY    P/L  P/VP  P/ATIVOS  MARGEM BRUTA  MARGEM EBIT  \\\n0  AALR3  22.59  0.00 -19.70  2.33      1.04         30.55        -0.34   \n1  ABCB4  16.92  8.26   4.78  0.73      0.07         35.76        27.56   \n2  ABEV3  14.84  5.14  16.14  2.80      1.69         49.29        22.15   \n3  ADHM3   1.56  0.00  -4.09 -1.29    105.12        100.00    -13548.48   \n4  AERI3   1.20  0.00  -9.92  1.04      0.24         11.93         8.65   \n\n   MARG. LIQUIDA  P/EBIT  ...  PATRIMONIO / ATIVOS  PASSIVOS / ATIVOS  \\\n0         -12.41 -712.60  ...                 0.45               0.54   \n1          19.63    3.40  ...                 0.09               0.91   \n2          18.14   13.22  ...                 0.60               0.40   \n3      -18860.61   -5.69  ...               -81.72              82.72   \n4          -3.76    4.31  ...                 0.23               0.77   \n\n   GIRO ATIVOS  CAGR RECEITAS 5 ANOS  CAGR LUCROS 5 ANOS  \\\n0         0.42                  3.62                0.00   \n1         0.07                 13.58               13.36   \n2         0.58                 10.72               14.74   \n3         0.14                  0.00                0.00   \n4         0.65                  0.00                0.00   \n\n    LIQUIDEZ MEDIA DIARIA    VPA   LPA   PEG Ratio   VALOR DE MERCADO  \n0            1.058238e+07   9.68 -1.15        0.04       2.668686e+09  \n1            1.681098e+07  23.02  3.54        0.12       3.823184e+09  \n2            4.667347e+08   5.29  0.92        1.14       2.334182e+11  \n3            0.000000e+00  -1.21 -0.38       -0.58       2.543977e+07  \n4            8.531498e+06   1.15 -0.12        0.04       9.194561e+08  \n\n[5 rows x 30 columns]",
      "text/html": "<div>\n<style scoped>\n    .dataframe tbody tr th:only-of-type {\n        vertical-align: middle;\n    }\n\n    .dataframe tbody tr th {\n        vertical-align: top;\n    }\n\n    .dataframe thead th {\n        text-align: right;\n    }\n</style>\n<table border=\"1\" class=\"dataframe\">\n  <thead>\n    <tr style=\"text-align: right;\">\n      <th></th>\n      <th>TICKER</th>\n      <th>PRECO</th>\n      <th>DY</th>\n      <th>P/L</th>\n      <th>P/VP</th>\n      <th>P/ATIVOS</th>\n      <th>MARGEM BRUTA</th>\n      <th>MARGEM EBIT</th>\n      <th>MARG. LIQUIDA</th>\n      <th>P/EBIT</th>\n      <th>...</th>\n      <th>PATRIMONIO / ATIVOS</th>\n      <th>PASSIVOS / ATIVOS</th>\n      <th>GIRO ATIVOS</th>\n      <th>CAGR RECEITAS 5 ANOS</th>\n      <th>CAGR LUCROS 5 ANOS</th>\n      <th>LIQUIDEZ MEDIA DIARIA</th>\n      <th>VPA</th>\n      <th>LPA</th>\n      <th>PEG Ratio</th>\n      <th>VALOR DE MERCADO</th>\n    </tr>\n  </thead>\n  <tbody>\n    <tr>\n      <th>0</th>\n      <td>AALR3</td>\n      <td>22.59</td>\n      <td>0.00</td>\n      <td>-19.70</td>\n      <td>2.33</td>\n      <td>1.04</td>\n      <td>30.55</td>\n      <td>-0.34</td>\n      <td>-12.41</td>\n      <td>-712.60</td>\n      <td>...</td>\n      <td>0.45</td>\n      <td>0.54</td>\n      <td>0.42</td>\n      <td>3.62</td>\n      <td>0.00</td>\n      <td>1.058238e+07</td>\n      <td>9.68</td>\n      <td>-1.15</td>\n      <td>0.04</td>\n      <td>2.668686e+09</td>\n    </tr>\n    <tr>\n      <th>1</th>\n      <td>ABCB4</td>\n      <td>16.92</td>\n      <td>8.26</td>\n      <td>4.78</td>\n      <td>0.73</td>\n      <td>0.07</td>\n      <td>35.76</td>\n      <td>27.56</td>\n      <td>19.63</td>\n      <td>3.40</td>\n      <td>...</td>\n      <td>0.09</td>\n      <td>0.91</td>\n      <td>0.07</td>\n      <td>13.58</td>\n      <td>13.36</td>\n      <td>1.681098e+07</td>\n      <td>23.02</td>\n      <td>3.54</td>\n      <td>0.12</td>\n      <td>3.823184e+09</td>\n    </tr>\n    <tr>\n      <th>2</th>\n      <td>ABEV3</td>\n      <td>14.84</td>\n      <td>5.14</td>\n      <td>16.14</td>\n      <td>2.80</td>\n      <td>1.69</td>\n      <td>49.29</td>\n      <td>22.15</td>\n      <td>18.14</td>\n      <td>13.22</td>\n      <td>...</td>\n      <td>0.60</td>\n      <td>0.40</td>\n      <td>0.58</td>\n      <td>10.72</td>\n      <td>14.74</td>\n      <td>4.667347e+08</td>\n      <td>5.29</td>\n      <td>0.92</td>\n      <td>1.14</td>\n      <td>2.334182e+11</td>\n    </tr>\n    <tr>\n      <th>3</th>\n      <td>ADHM3</td>\n      <td>1.56</td>\n      <td>0.00</td>\n      <td>-4.09</td>\n      <td>-1.29</td>\n      <td>105.12</td>\n      <td>100.00</td>\n      <td>-13548.48</td>\n      <td>-18860.61</td>\n      <td>-5.69</td>\n      <td>...</td>\n      <td>-81.72</td>\n      <td>82.72</td>\n      <td>0.14</td>\n      <td>0.00</td>\n      <td>0.00</td>\n      <td>0.000000e+00</td>\n      <td>-1.21</td>\n      <td>-0.38</td>\n      <td>-0.58</td>\n      <td>2.543977e+07</td>\n    </tr>\n    <tr>\n      <th>4</th>\n      <td>AERI3</td>\n      <td>1.20</td>\n      <td>0.00</td>\n      <td>-9.92</td>\n      <td>1.04</td>\n      <td>0.24</td>\n      <td>11.93</td>\n      <td>8.65</td>\n      <td>-3.76</td>\n      <td>4.31</td>\n      <td>...</td>\n      <td>0.23</td>\n      <td>0.77</td>\n      <td>0.65</td>\n      <td>0.00</td>\n      <td>0.00</td>\n      <td>8.531498e+06</td>\n      <td>1.15</td>\n      <td>-0.12</td>\n      <td>0.04</td>\n      <td>9.194561e+08</td>\n    </tr>\n  </tbody>\n</table>\n<p>5 rows × 30 columns</p>\n</div>"
     },
     "execution_count": 125,
     "metadata": {},
     "output_type": "execute_result"
    }
   ],
   "source": [
    "# Base de dados de F11\n",
    "df_f11.fillna(0, inplace=True)\n",
    "df_f11.iloc[:,1:] = df_f11.iloc[:, 1:].apply(lambda x: x.apply(str_to_float))\n",
    "df_f11.head()"
   ],
   "metadata": {
    "collapsed": false
   }
  },
  {
   "cell_type": "code",
   "execution_count": 126,
   "outputs": [
    {
     "data": {
      "text/plain": "Index(['Date', 'Price', 'Open', 'High', 'Low', 'Vol.', 'Change %'], dtype='object')"
     },
     "execution_count": 126,
     "metadata": {},
     "output_type": "execute_result"
    }
   ],
   "source": [
    "df_visc.columns"
   ],
   "metadata": {
    "collapsed": false
   }
  },
  {
   "cell_type": "code",
   "execution_count": 127,
   "outputs": [
    {
     "data": {
      "text/plain": "    Vol.  Change %\n0  22.00      0.48\n1  25.94     -0.20\n2  25.95     -0.08\n3  24.75     -1.23\n4  17.15      0.44",
      "text/html": "<div>\n<style scoped>\n    .dataframe tbody tr th:only-of-type {\n        vertical-align: middle;\n    }\n\n    .dataframe tbody tr th {\n        vertical-align: top;\n    }\n\n    .dataframe thead th {\n        text-align: right;\n    }\n</style>\n<table border=\"1\" class=\"dataframe\">\n  <thead>\n    <tr style=\"text-align: right;\">\n      <th></th>\n      <th>Vol.</th>\n      <th>Change %</th>\n    </tr>\n  </thead>\n  <tbody>\n    <tr>\n      <th>0</th>\n      <td>22.00</td>\n      <td>0.48</td>\n    </tr>\n    <tr>\n      <th>1</th>\n      <td>25.94</td>\n      <td>-0.20</td>\n    </tr>\n    <tr>\n      <th>2</th>\n      <td>25.95</td>\n      <td>-0.08</td>\n    </tr>\n    <tr>\n      <th>3</th>\n      <td>24.75</td>\n      <td>-1.23</td>\n    </tr>\n    <tr>\n      <th>4</th>\n      <td>17.15</td>\n      <td>0.44</td>\n    </tr>\n  </tbody>\n</table>\n</div>"
     },
     "execution_count": 127,
     "metadata": {},
     "output_type": "execute_result"
    }
   ],
   "source": [
    "df_visc.fillna(0, inplace=True)\n",
    "df_visc.iloc[:, -1] = df_visc.iloc[:, -1].apply(lambda x: clean_string_perc(x))\n",
    "df_visc.iloc[:, -2] = df_visc.iloc[:, -2].apply(lambda x: clean_string_k(x))\n",
    "df_visc.iloc[:, -2:].head()"
   ],
   "metadata": {
    "collapsed": false
   }
  },
  {
   "cell_type": "code",
   "execution_count": 128,
   "outputs": [
    {
     "name": "stdout",
     "output_type": "stream",
     "text": [
      "<class 'pandas.core.frame.DataFrame'>\n",
      "RangeIndex: 22 entries, 0 to 21\n",
      "Data columns (total 7 columns):\n",
      " #   Column    Non-Null Count  Dtype  \n",
      "---  ------    --------------  -----  \n",
      " 0   Date      22 non-null     object \n",
      " 1   Price     22 non-null     float64\n",
      " 2   Open      22 non-null     float64\n",
      " 3   High      22 non-null     float64\n",
      " 4   Low       22 non-null     float64\n",
      " 5   Vol.      22 non-null     float64\n",
      " 6   Change %  22 non-null     float64\n",
      "dtypes: float64(6), object(1)\n",
      "memory usage: 1.3+ KB\n"
     ]
    }
   ],
   "source": [
    "df_visc.info()"
   ],
   "metadata": {
    "collapsed": false
   }
  },
  {
   "cell_type": "code",
   "execution_count": 127,
   "outputs": [],
   "source": [],
   "metadata": {
    "collapsed": false
   }
  }
 ],
 "metadata": {
  "kernelspec": {
   "display_name": "Python 3",
   "language": "python",
   "name": "python3"
  },
  "language_info": {
   "codemirror_mode": {
    "name": "ipython",
    "version": 2
   },
   "file_extension": ".py",
   "mimetype": "text/x-python",
   "name": "python",
   "nbconvert_exporter": "python",
   "pygments_lexer": "ipython2",
   "version": "2.7.6"
  }
 },
 "nbformat": 4,
 "nbformat_minor": 0
}
